{
 "cells": [
  {
   "cell_type": "code",
   "execution_count": 3,
   "metadata": {},
   "outputs": [
    {
     "name": "stdout",
     "output_type": "stream",
     "text": [
      "Plugins found:  ['EditingPlugin']\n"
     ]
    }
   ],
   "source": [
    "import semantic_kernel as sk\n",
    "import os\n",
    "import json\n",
    "\n",
    "from semantic_kernel.planners.sequential_planner import SequentialPlanner\n",
    "from semantic_kernel.connectors.ai.open_ai import AzureChatCompletion\n",
    "\n",
    "plugins_directory = \"plugins\"\n",
    "plugin_names = [plugin for plugin in os.listdir(plugins_directory) if os.path.isdir(os.path.join(plugins_directory, plugin))]\n",
    "\n",
    "print(\"Plugins found: \", plugin_names)"
   ]
  },
  {
   "cell_type": "code",
   "execution_count": 2,
   "metadata": {},
   "outputs": [
    {
     "name": "stdout",
     "output_type": "stream",
     "text": [
      "gpt4\n"
     ]
    }
   ],
   "source": [
    "deployment, api_key, endpoint = sk.azure_openai_settings_from_dot_env()\n",
    "\n",
    "print(deployment)"
   ]
  },
  {
   "cell_type": "code",
   "execution_count": 4,
   "metadata": {},
   "outputs": [
    {
     "name": "stdout",
     "output_type": "stream",
     "text": [
      "Loading plugin:  EditingPlugin\n"
     ]
    }
   ],
   "source": [
    "kernel = sk.Kernel()\n",
    "\n",
    "deployment, api_key, endpoint = sk.azure_openai_settings_from_dot_env()\n",
    "service_id = \"default\"\n",
    "\n",
    "kernel.add_service(\n",
    "    AzureChatCompletion(service_id=service_id, deployment_name=deployment, endpoint=endpoint, api_key=api_key),\n",
    ")\n",
    "\n",
    "for plugin_name in plugin_names:\n",
    "    print(\"Loading plugin: \", plugin_name)\n",
    "    plugin = kernel.import_plugin_from_prompt_directory(plugins_directory, plugin_name)\n",
    "\n",
    "planner = SequentialPlanner(service_id=service_id, kernel=kernel)"
   ]
  },
  {
   "cell_type": "code",
   "execution_count": 8,
   "metadata": {},
   "outputs": [
    {
     "name": "stdout",
     "output_type": "stream",
     "text": [
      "Validates that a paragraph conforms to a style guide for articles, pluralization and periods. : {'execution_settings': {}}\n",
      "Takes a text and changes it to a specified verbal tense.i.e. Present, Past, Future, etc. : {'execution_settings': {}}\n",
      "Validates that a paragraph conforms to a style guide for headings and titles. : {'execution_settings': {}}\n",
      "Validates that a paragraph conforms to a style guide for running text. : {'execution_settings': {}}\n",
      "Validates that a paragraph conforms to a style guide for tables and figures. : {'execution_settings': {}}\n",
      "CCR8 expression gets upregulated on a highly immunosuppressive subset of regulatory T cells (Tregs) in multiple cancer types. TAK-188 is an Antibody Drug Conjugate (ADC) that targets CCR8. TAK-188 is specifically designed to deplete Tregs and boost the immune system to produce an antitumoral effect.\n"
     ]
    }
   ],
   "source": [
    "ask = \"Execute all EditingPlugin functions on the following text: \"\n",
    "ask = ask + \"CCR8 expression is upregulated on a highly immunosuppressive subset of regulatory T cells (Tregs) in multiple cancer types. TAK-188 is an Antibody Drug Conjugate (ADC) targeting CCR8. TAK-188 is designed specifically for depleting Tregs and boosting the immune system to produce an antitumoral effect.\"\n",
    "\n",
    "plan = await planner.create_plan(goal=ask)\n",
    "\n",
    "result = await plan.invoke(kernel)\n",
    "\n",
    "for step in plan._steps:\n",
    "    print(step.description, \":\", step._state.__dict__)\n",
    "    \n",
    "print(result)"
   ]
  }
 ],
 "metadata": {
  "kernelspec": {
   "display_name": "Python 3",
   "language": "python",
   "name": "python3"
  },
  "language_info": {
   "codemirror_mode": {
    "name": "ipython",
    "version": 3
   },
   "file_extension": ".py",
   "mimetype": "text/x-python",
   "name": "python",
   "nbconvert_exporter": "python",
   "pygments_lexer": "ipython3",
   "version": "3.11.8"
  }
 },
 "nbformat": 4,
 "nbformat_minor": 2
}
