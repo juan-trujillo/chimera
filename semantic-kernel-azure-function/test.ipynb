{
 "cells": [
  {
   "cell_type": "code",
   "execution_count": 2,
   "metadata": {},
   "outputs": [
    {
     "name": "stdout",
     "output_type": "stream",
     "text": [
      "Plugins found:  ['EditingPlugin']\n"
     ]
    }
   ],
   "source": [
    "import os\n",
    "\n",
    "plugins_directory = \"plugins\"\n",
    "plugin_names = [plugin for plugin in os.listdir(plugins_directory) if os.path.isdir(os.path.join(plugins_directory, plugin))]\n",
    "\n",
    "print(\"Plugins found: \", plugin_names)"
   ]
  },
  {
   "cell_type": "code",
   "execution_count": 5,
   "metadata": {},
   "outputs": [
    {
     "name": "stdout",
     "output_type": "stream",
     "text": [
      "Loading plugin:  EditingPlugin\n",
      "name='EditingPlugin' description=None functions={'ChangeTense': KernelFunctionFromPrompt(metadata=KernelFunctionMetadata(name='ChangeTense', plugin_name='EditingPlugin', description='Takes a text and changes it to a specified verbal tense.i.e. Present, Past, Future, etc.', parameters=[KernelParameterMetadata(name='input', description='Text to be processed.', default_value='', type_='', is_required=True, type_object=None), KernelParameterMetadata(name='tense', description='Tense we want to set the input to.', default_value='present', type_='', is_required=True, type_object=None)], is_prompt=True, is_asynchronous=True, return_parameter=KernelParameterMetadata(name='return', description='The completion result', default_value=None, type_='FunctionResult', is_required=True, type_object=None)), prompt_template=KernelPromptTemplate(prompt_template_config=PromptTemplateConfig(name='ChangeTense', description='Takes a text and changes it to a specified verbal tense.i.e. Present, Past, Future, etc.', template='USE THE INPUT TEXT AND REWRITE IT CHANGING ONLY THE VERBAL TENSE, IF PROVIDED TO: {{$tense}}\\n\\nYOU SHOULD NOT ADD ANY NEW CONTENT\\nTHE OUTPUT SHOULD KEEP THE SAME MEANING AS FOUND IN THE ORIGINAL TEXT\\n\\n[INPUT]\\n{{$input}}\\n[END INPUT]\\n', template_format='semantic-kernel', input_variables=[InputVariable(name='input', description='Text to be processed.', default='', is_required=True, json_schema=''), InputVariable(name='tense', description='Tense we want to set the input to.', default='present', is_required=True, json_schema='')], execution_settings={'default': PromptExecutionSettings(service_id=None, extension_data={'max_tokens': 1000, 'temperature': 0.2, 'top_p': 0.0, 'presence_penalty': 0.0, 'frequency_penalty': 0.0})})), prompt_execution_settings={'default': PromptExecutionSettings(service_id=None, extension_data={'max_tokens': 1000, 'temperature': 0.2, 'top_p': 0.0, 'presence_penalty': 0.0, 'frequency_penalty': 0.0})}), 'GeographicAbbreviations': KernelFunctionFromPrompt(metadata=KernelFunctionMetadata(name='GeographicAbbreviations', plugin_name='EditingPlugin', description='Validates that a paragraph conforms to a style guide for the use of abbreviations.', parameters=[KernelParameterMetadata(name='input', description='Text to be processed.', default_value='', type_='', is_required=True, type_object=None)], is_prompt=True, is_asynchronous=True, return_parameter=KernelParameterMetadata(name='return', description='The completion result', default_value=None, type_='FunctionResult', is_required=True, type_object=None)), prompt_template=KernelPromptTemplate(prompt_template_config=PromptTemplateConfig(name='GeographicAbbreviations', description='Validates that a paragraph conforms to a style guide for the use of abbreviations.', template='Check the following text for compliance with the abbreviation usage rules described below and make corrections when necessary. The rules are:\\n\\n– The country/region abbreviations US (United States), UK (United Kingdom), and EU \\n(European Union) may be used as both modifiers and nouns. EU should be \\nused only as an abbreviation for European Union, never for the geographic region \\nEurope. \\n\\n– At first mention, the name of a state, territory, possession, province, or country should be \\nspelled out when it follows the name of a city. Names of cities, states, counties, \\nterritories, possessions, provinces, and countries should be spelled out in full when they \\nstand alone. \\n\\n– Use 2-letter abbreviations for US state and Canadian province names in full addresses \\n(with US zip codes and Canadian postal codes) and in reference lists (eg, location of book \\npublishers) but not in the text. \\n\\nNow, check the following text:\\n\\n[INPUT]\\n[{{$input}}]\\n[END INPUT]\\n', template_format='semantic-kernel', input_variables=[InputVariable(name='input', description='Text to be processed.', default='', is_required=True, json_schema='')], execution_settings={'default': PromptExecutionSettings(service_id=None, extension_data={'max_tokens': 1000, 'temperature': 0.5, 'top_p': 0.0, 'presence_penalty': 0.0, 'frequency_penalty': 0.0})})), prompt_execution_settings={'default': PromptExecutionSettings(service_id=None, extension_data={'max_tokens': 1000, 'temperature': 0.5, 'top_p': 0.0, 'presence_penalty': 0.0, 'frequency_penalty': 0.0})}), 'RunningText': KernelFunctionFromPrompt(metadata=KernelFunctionMetadata(name='RunningText', plugin_name='EditingPlugin', description='Validates that a paragraph conforms to a style guide for the use of abbreviations.', parameters=[KernelParameterMetadata(name='input', description='Text to be processed.', default_value='', type_='', is_required=True, type_object=None)], is_prompt=True, is_asynchronous=True, return_parameter=KernelParameterMetadata(name='return', description='The completion result', default_value=None, type_='FunctionResult', is_required=True, type_object=None)), prompt_template=KernelPromptTemplate(prompt_template_config=PromptTemplateConfig(name='RunningText', description='Validates that a paragraph conforms to a style guide for the use of abbreviations.', template='Check the following text for compliance with the abbreviation usage rules described below and make corrections when necessary. The rules are:\\n\\n- Spell out each term to be abbreviated at its first use, followed by the abbreviation in parentheses. Use only the abbreviation thereafter.\\n- Consecutive parentheses are allowed.\\n- Binomial species names should be abbreviated after their first use without the abbreviation presented in parentheses.\\n- Italicize genus and species names (for both organisms and viruses); do not italicize related plurals and adjectival forms or taxa above genus.\\n\\nFor example:\\nCorrect: \"The incidence, severity, and type of adverse events (AEs)…\"\\nIncorrect: \"The incidence, severity, and type of AEs…\"\\n\\nCorrect: \"Staphylococcus aureus is a common cause of hospital-acquired infection. Nosocomial S aureus infection is also a source of community-acquired infection.\"\\nIncorrect: \"Staphylococcus (S) aureus is a common cause of hospital-acquired infection. Nosocomial S aureus infection is also a source of community-acquired infection.\"\\n\\nNow, check the following text:\\n\\n[INPUT]\\n[{{$input}}]\\n[END INPUT]\\n', template_format='semantic-kernel', input_variables=[InputVariable(name='input', description='Text to be processed.', default='', is_required=True, json_schema='')], execution_settings={'default': PromptExecutionSettings(service_id=None, extension_data={'max_tokens': 1000, 'temperature': 0.5, 'top_p': 0.0, 'presence_penalty': 0.0, 'frequency_penalty': 0.0})})), prompt_execution_settings={'default': PromptExecutionSettings(service_id=None, extension_data={'max_tokens': 1000, 'temperature': 0.5, 'top_p': 0.0, 'presence_penalty': 0.0, 'frequency_penalty': 0.0})})}\n"
     ]
    }
   ],
   "source": [
    "import semantic_kernel as sk\n",
    "\n",
    "kernel = sk.Kernel()\n",
    "\n",
    "for plugin_name in plugin_names:\n",
    "    print(\"Loading plugin: \", plugin_name)\n",
    "    plugin = kernel.import_plugin_from_prompt_directory(plugins_directory, plugin_name)\n",
    "    \n",
    "    print(plugin)\n"
   ]
  },
  {
   "cell_type": "code",
   "execution_count": 7,
   "metadata": {},
   "outputs": [
    {
     "name": "stdout",
     "output_type": "stream",
     "text": [
      "metadata=KernelFunctionMetadata(name='ChangeTense', plugin_name='EditingPlugin', description='Takes a text and changes it to a specified verbal tense.i.e. Present, Past, Future, etc.', parameters=[KernelParameterMetadata(name='input', description='Text to be processed.', default_value='', type_='', is_required=True, type_object=None), KernelParameterMetadata(name='tense', description='Tense we want to set the input to.', default_value='present', type_='', is_required=True, type_object=None)], is_prompt=True, is_asynchronous=True, return_parameter=KernelParameterMetadata(name='return', description='The completion result', default_value=None, type_='FunctionResult', is_required=True, type_object=None)) prompt_template=KernelPromptTemplate(prompt_template_config=PromptTemplateConfig(name='ChangeTense', description='Takes a text and changes it to a specified verbal tense.i.e. Present, Past, Future, etc.', template='USE THE INPUT TEXT AND REWRITE IT CHANGING ONLY THE VERBAL TENSE, IF PROVIDED TO: {{$tense}}\\n\\nYOU SHOULD NOT ADD ANY NEW CONTENT\\nTHE OUTPUT SHOULD KEEP THE SAME MEANING AS FOUND IN THE ORIGINAL TEXT\\n\\n[INPUT]\\n{{$input}}\\n[END INPUT]\\n', template_format='semantic-kernel', input_variables=[InputVariable(name='input', description='Text to be processed.', default='', is_required=True, json_schema=''), InputVariable(name='tense', description='Tense we want to set the input to.', default='present', is_required=True, json_schema='')], execution_settings={'default': PromptExecutionSettings(service_id=None, extension_data={'max_tokens': 1000, 'temperature': 0.2, 'top_p': 0.0, 'presence_penalty': 0.0, 'frequency_penalty': 0.0})})) prompt_execution_settings={'default': PromptExecutionSettings(service_id=None, extension_data={'max_tokens': 1000, 'temperature': 0.2, 'top_p': 0.0, 'presence_penalty': 0.0, 'frequency_penalty': 0.0})}\n"
     ]
    }
   ],
   "source": [
    "print(kernel.plugins[\"EditingPlugin\"][\"ChangeTense\"])"
   ]
  }
 ],
 "metadata": {
  "kernelspec": {
   "display_name": "Python 3",
   "language": "python",
   "name": "python3"
  },
  "language_info": {
   "codemirror_mode": {
    "name": "ipython",
    "version": 3
   },
   "file_extension": ".py",
   "mimetype": "text/x-python",
   "name": "python",
   "nbconvert_exporter": "python",
   "pygments_lexer": "ipython3",
   "version": "3.11.8"
  }
 },
 "nbformat": 4,
 "nbformat_minor": 2
}
