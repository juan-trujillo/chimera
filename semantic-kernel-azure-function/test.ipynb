{
 "cells": [
  {
   "cell_type": "code",
   "execution_count": 6,
   "metadata": {},
   "outputs": [
    {
     "name": "stdout",
     "output_type": "stream",
     "text": [
      "Requirement already satisfied: semantic-kernel==0.9.1b1 in /usr/local/python/3.11.8/lib/python3.11/site-packages (0.9.1b1)\n",
      "Requirement already satisfied: aiofiles<24.0.0,>=23.1.0 in /usr/local/python/3.11.8/lib/python3.11/site-packages (from semantic-kernel==0.9.1b1) (23.2.1)\n",
      "Requirement already satisfied: aiohttp<4.0,>=3.8 in /usr/local/python/3.11.8/lib/python3.11/site-packages (from semantic-kernel==0.9.1b1) (3.9.3)\n",
      "Requirement already satisfied: defusedxml<0.8.0,>=0.7.1 in /usr/local/python/3.11.8/lib/python3.11/site-packages (from semantic-kernel==0.9.1b1) (0.7.1)\n",
      "Requirement already satisfied: motor<4.0.0,>=3.3.2 in /usr/local/python/3.11.8/lib/python3.11/site-packages (from semantic-kernel==0.9.1b1) (3.3.2)\n",
      "Requirement already satisfied: numpy<2.0.0,>=1.24.2 in /usr/local/python/3.11.8/lib/python3.11/site-packages (from semantic-kernel==0.9.1b1) (1.26.4)\n",
      "Requirement already satisfied: openai>=1.0 in /usr/local/python/3.11.8/lib/python3.11/site-packages (from semantic-kernel==0.9.1b1) (1.13.3)\n",
      "Requirement already satisfied: openapi_core<0.19.0,>=0.18.0 in /usr/local/python/3.11.8/lib/python3.11/site-packages (from semantic-kernel==0.9.1b1) (0.18.2)\n",
      "Requirement already satisfied: prance<24.0.0.0,>=23.6.21.0 in /usr/local/python/3.11.8/lib/python3.11/site-packages (from semantic-kernel==0.9.1b1) (23.6.21.0)\n",
      "Requirement already satisfied: pydantic>2 in /usr/local/python/3.11.8/lib/python3.11/site-packages (from semantic-kernel==0.9.1b1) (2.6.4)\n",
      "Requirement already satisfied: python-dotenv==1.0.1 in /usr/local/python/3.11.8/lib/python3.11/site-packages (from semantic-kernel==0.9.1b1) (1.0.1)\n",
      "Requirement already satisfied: regex<2024.0.0,>=2023.6.3 in /usr/local/python/3.11.8/lib/python3.11/site-packages (from semantic-kernel==0.9.1b1) (2023.12.25)\n",
      "Requirement already satisfied: aiosignal>=1.1.2 in /usr/local/python/3.11.8/lib/python3.11/site-packages (from aiohttp<4.0,>=3.8->semantic-kernel==0.9.1b1) (1.3.1)\n",
      "Requirement already satisfied: attrs>=17.3.0 in /usr/local/python/3.11.8/lib/python3.11/site-packages (from aiohttp<4.0,>=3.8->semantic-kernel==0.9.1b1) (23.2.0)\n",
      "Requirement already satisfied: frozenlist>=1.1.1 in /usr/local/python/3.11.8/lib/python3.11/site-packages (from aiohttp<4.0,>=3.8->semantic-kernel==0.9.1b1) (1.4.1)\n",
      "Requirement already satisfied: multidict<7.0,>=4.5 in /usr/local/python/3.11.8/lib/python3.11/site-packages (from aiohttp<4.0,>=3.8->semantic-kernel==0.9.1b1) (6.0.5)\n",
      "Requirement already satisfied: yarl<2.0,>=1.0 in /usr/local/python/3.11.8/lib/python3.11/site-packages (from aiohttp<4.0,>=3.8->semantic-kernel==0.9.1b1) (1.9.4)\n",
      "Requirement already satisfied: pymongo<5,>=4.5 in /usr/local/python/3.11.8/lib/python3.11/site-packages (from motor<4.0.0,>=3.3.2->semantic-kernel==0.9.1b1) (4.6.2)\n",
      "Requirement already satisfied: anyio<5,>=3.5.0 in /usr/local/python/3.11.8/lib/python3.11/site-packages (from openai>=1.0->semantic-kernel==0.9.1b1) (4.3.0)\n",
      "Requirement already satisfied: distro<2,>=1.7.0 in /usr/local/python/3.11.8/lib/python3.11/site-packages (from openai>=1.0->semantic-kernel==0.9.1b1) (1.9.0)\n",
      "Requirement already satisfied: httpx<1,>=0.23.0 in /usr/local/python/3.11.8/lib/python3.11/site-packages (from openai>=1.0->semantic-kernel==0.9.1b1) (0.27.0)\n",
      "Requirement already satisfied: sniffio in /usr/local/python/3.11.8/lib/python3.11/site-packages (from openai>=1.0->semantic-kernel==0.9.1b1) (1.3.1)\n",
      "Requirement already satisfied: tqdm>4 in /usr/local/python/3.11.8/lib/python3.11/site-packages (from openai>=1.0->semantic-kernel==0.9.1b1) (4.66.2)\n",
      "Requirement already satisfied: typing-extensions<5,>=4.7 in /usr/local/python/3.11.8/lib/python3.11/site-packages (from openai>=1.0->semantic-kernel==0.9.1b1) (4.10.0)\n",
      "Requirement already satisfied: asgiref<4.0.0,>=3.6.0 in /usr/local/python/3.11.8/lib/python3.11/site-packages (from openapi_core<0.19.0,>=0.18.0->semantic-kernel==0.9.1b1) (3.7.2)\n",
      "Requirement already satisfied: isodate in /usr/local/python/3.11.8/lib/python3.11/site-packages (from openapi_core<0.19.0,>=0.18.0->semantic-kernel==0.9.1b1) (0.6.1)\n",
      "Requirement already satisfied: jsonschema<5.0.0,>=4.18.0 in /usr/local/python/3.11.8/lib/python3.11/site-packages (from openapi_core<0.19.0,>=0.18.0->semantic-kernel==0.9.1b1) (4.21.1)\n",
      "Requirement already satisfied: jsonschema-spec<0.3.0,>=0.2.3 in /usr/local/python/3.11.8/lib/python3.11/site-packages (from openapi_core<0.19.0,>=0.18.0->semantic-kernel==0.9.1b1) (0.2.4)\n",
      "Requirement already satisfied: more-itertools in /usr/local/python/3.11.8/lib/python3.11/site-packages (from openapi_core<0.19.0,>=0.18.0->semantic-kernel==0.9.1b1) (10.2.0)\n",
      "Requirement already satisfied: openapi-schema-validator<0.7.0,>=0.6.0 in /usr/local/python/3.11.8/lib/python3.11/site-packages (from openapi_core<0.19.0,>=0.18.0->semantic-kernel==0.9.1b1) (0.6.2)\n",
      "Requirement already satisfied: openapi-spec-validator<0.8.0,>=0.7.1 in /usr/local/python/3.11.8/lib/python3.11/site-packages (from openapi_core<0.19.0,>=0.18.0->semantic-kernel==0.9.1b1) (0.7.1)\n",
      "Requirement already satisfied: parse in /usr/local/python/3.11.8/lib/python3.11/site-packages (from openapi_core<0.19.0,>=0.18.0->semantic-kernel==0.9.1b1) (1.20.1)\n",
      "Requirement already satisfied: werkzeug in /usr/local/python/3.11.8/lib/python3.11/site-packages (from openapi_core<0.19.0,>=0.18.0->semantic-kernel==0.9.1b1) (3.0.1)\n",
      "Requirement already satisfied: chardet>=3.0 in /usr/local/python/3.11.8/lib/python3.11/site-packages (from prance<24.0.0.0,>=23.6.21.0->semantic-kernel==0.9.1b1) (5.2.0)\n",
      "Requirement already satisfied: ruamel.yaml>=0.17.10 in /usr/local/python/3.11.8/lib/python3.11/site-packages (from prance<24.0.0.0,>=23.6.21.0->semantic-kernel==0.9.1b1) (0.18.6)\n",
      "Requirement already satisfied: requests>=2.25 in /usr/local/python/3.11.8/lib/python3.11/site-packages (from prance<24.0.0.0,>=23.6.21.0->semantic-kernel==0.9.1b1) (2.31.0)\n",
      "Requirement already satisfied: six~=1.15 in /usr/local/python/3.11.8/lib/python3.11/site-packages (from prance<24.0.0.0,>=23.6.21.0->semantic-kernel==0.9.1b1) (1.16.0)\n",
      "Requirement already satisfied: packaging>=21.3 in /usr/local/python/3.11.8/lib/python3.11/site-packages (from prance<24.0.0.0,>=23.6.21.0->semantic-kernel==0.9.1b1) (24.0)\n",
      "Requirement already satisfied: annotated-types>=0.4.0 in /usr/local/python/3.11.8/lib/python3.11/site-packages (from pydantic>2->semantic-kernel==0.9.1b1) (0.6.0)\n",
      "Requirement already satisfied: pydantic-core==2.16.3 in /usr/local/python/3.11.8/lib/python3.11/site-packages (from pydantic>2->semantic-kernel==0.9.1b1) (2.16.3)\n",
      "Requirement already satisfied: idna>=2.8 in /usr/local/python/3.11.8/lib/python3.11/site-packages (from anyio<5,>=3.5.0->openai>=1.0->semantic-kernel==0.9.1b1) (3.6)\n",
      "Requirement already satisfied: certifi in /usr/local/python/3.11.8/lib/python3.11/site-packages (from httpx<1,>=0.23.0->openai>=1.0->semantic-kernel==0.9.1b1) (2024.2.2)\n",
      "Requirement already satisfied: httpcore==1.* in /usr/local/python/3.11.8/lib/python3.11/site-packages (from httpx<1,>=0.23.0->openai>=1.0->semantic-kernel==0.9.1b1) (1.0.4)\n",
      "Requirement already satisfied: h11<0.15,>=0.13 in /usr/local/python/3.11.8/lib/python3.11/site-packages (from httpcore==1.*->httpx<1,>=0.23.0->openai>=1.0->semantic-kernel==0.9.1b1) (0.14.0)\n",
      "Requirement already satisfied: jsonschema-specifications>=2023.03.6 in /usr/local/python/3.11.8/lib/python3.11/site-packages (from jsonschema<5.0.0,>=4.18.0->openapi_core<0.19.0,>=0.18.0->semantic-kernel==0.9.1b1) (2023.7.1)\n",
      "Requirement already satisfied: referencing>=0.28.4 in /usr/local/python/3.11.8/lib/python3.11/site-packages (from jsonschema<5.0.0,>=4.18.0->openapi_core<0.19.0,>=0.18.0->semantic-kernel==0.9.1b1) (0.30.2)\n",
      "Requirement already satisfied: rpds-py>=0.7.1 in /usr/local/python/3.11.8/lib/python3.11/site-packages (from jsonschema<5.0.0,>=4.18.0->openapi_core<0.19.0,>=0.18.0->semantic-kernel==0.9.1b1) (0.18.0)\n",
      "Requirement already satisfied: PyYAML>=5.1 in /usr/local/python/3.11.8/lib/python3.11/site-packages (from jsonschema-spec<0.3.0,>=0.2.3->openapi_core<0.19.0,>=0.18.0->semantic-kernel==0.9.1b1) (6.0.1)\n",
      "Requirement already satisfied: pathable<0.5.0,>=0.4.1 in /usr/local/python/3.11.8/lib/python3.11/site-packages (from jsonschema-spec<0.3.0,>=0.2.3->openapi_core<0.19.0,>=0.18.0->semantic-kernel==0.9.1b1) (0.4.3)\n",
      "Requirement already satisfied: rfc3339-validator in /usr/local/python/3.11.8/lib/python3.11/site-packages (from openapi-schema-validator<0.7.0,>=0.6.0->openapi_core<0.19.0,>=0.18.0->semantic-kernel==0.9.1b1) (0.1.4)\n",
      "Requirement already satisfied: jsonschema-path<0.4.0,>=0.3.1 in /usr/local/python/3.11.8/lib/python3.11/site-packages (from openapi-spec-validator<0.8.0,>=0.7.1->openapi_core<0.19.0,>=0.18.0->semantic-kernel==0.9.1b1) (0.3.2)\n",
      "Requirement already satisfied: lazy-object-proxy<2.0.0,>=1.7.1 in /usr/local/python/3.11.8/lib/python3.11/site-packages (from openapi-spec-validator<0.8.0,>=0.7.1->openapi_core<0.19.0,>=0.18.0->semantic-kernel==0.9.1b1) (1.10.0)\n",
      "Requirement already satisfied: dnspython<3.0.0,>=1.16.0 in /usr/local/python/3.11.8/lib/python3.11/site-packages (from pymongo<5,>=4.5->motor<4.0.0,>=3.3.2->semantic-kernel==0.9.1b1) (2.6.1)\n",
      "Requirement already satisfied: charset-normalizer<4,>=2 in /usr/local/python/3.11.8/lib/python3.11/site-packages (from requests>=2.25->prance<24.0.0.0,>=23.6.21.0->semantic-kernel==0.9.1b1) (3.3.2)\n",
      "Requirement already satisfied: urllib3<3,>=1.21.1 in /usr/local/python/3.11.8/lib/python3.11/site-packages (from requests>=2.25->prance<24.0.0.0,>=23.6.21.0->semantic-kernel==0.9.1b1) (2.2.1)\n",
      "Requirement already satisfied: ruamel.yaml.clib>=0.2.7 in /usr/local/python/3.11.8/lib/python3.11/site-packages (from ruamel.yaml>=0.17.10->prance<24.0.0.0,>=23.6.21.0->semantic-kernel==0.9.1b1) (0.2.8)\n",
      "Requirement already satisfied: MarkupSafe>=2.1.1 in /usr/local/python/3.11.8/lib/python3.11/site-packages (from werkzeug->openapi_core<0.19.0,>=0.18.0->semantic-kernel==0.9.1b1) (2.1.5)\n"
     ]
    }
   ],
   "source": [
    "!pip install semantic-kernel==0.9.1b1"
   ]
  },
  {
   "cell_type": "code",
   "execution_count": 10,
   "metadata": {},
   "outputs": [
    {
     "name": "stdout",
     "output_type": "stream",
     "text": [
      "Plugins found:  ['EditingPlugin']\n"
     ]
    }
   ],
   "source": [
    "import os\n",
    "import semantic_kernel as sk\n",
    "import json\n",
    "\n",
    "from semantic_kernel.connectors.ai.open_ai import AzureChatCompletion\n",
    "from semantic_kernel.planners.action_planner import ActionPlanner\n",
    "\n",
    "plugins_directory = \"plugins\"\n",
    "plugin_names = [plugin for plugin in os.listdir(plugins_directory) if os.path.isdir(os.path.join(plugins_directory, plugin))]\n",
    "#plugin_names = [\"PhilPlugin\"]\n",
    "\n",
    "print(\"Plugins found: \", plugin_names)"
   ]
  },
  {
   "cell_type": "code",
   "execution_count": 11,
   "metadata": {},
   "outputs": [
    {
     "name": "stdout",
     "output_type": "stream",
     "text": [
      "Loading plugin:  EditingPlugin\n",
      "{\"name\": \"EditingPlugin\", \"description\": \"This is the editing plugin.\", \"functions\": {\"ChangeTense\": {\"metadata\": {\"name\": \"ChangeTense\", \"plugin_name\": \"EditingPlugin\", \"description\": \"Takes a text and changes it to a specified verbal tense.i.e. Present, Past, Future, etc.\", \"parameters\": [{\"name\": \"input\", \"description\": \"Text to be processed.\", \"default_value\": \"\", \"type_\": \"\", \"is_required\": true, \"type_object\": null}, {\"name\": \"tense\", \"description\": \"Tense we want to set the input to.\", \"default_value\": \"present\", \"type_\": \"\", \"is_required\": true, \"type_object\": null}], \"is_prompt\": true, \"is_asynchronous\": true, \"return_parameter\": {\"name\": \"return\", \"description\": \"The completion result\", \"default_value\": null, \"type_\": \"FunctionResult\", \"is_required\": true, \"type_object\": null}}, \"prompt_template\": {\"prompt_template_config\": {\"name\": \"ChangeTense\", \"description\": \"Takes a text and changes it to a specified verbal tense.i.e. Present, Past, Future, etc.\", \"template\": \"USE THE INPUT TEXT AND REWRITE IT CHANGING ONLY THE VERBAL TENSE, IF PROVIDED TO: {{$tense}}\\n\\nYOU SHOULD NOT ADD ANY NEW CONTENT\\nTHE OUTPUT SHOULD KEEP THE SAME MEANING AS FOUND IN THE ORIGINAL TEXT\\n\\n[INPUT]\\n{{$input}}\\n[END INPUT]\\n\", \"template_format\": \"semantic-kernel\", \"input_variables\": [{\"name\": \"input\", \"description\": \"Text to be processed.\", \"default\": \"\", \"is_required\": true, \"json_schema\": \"\"}, {\"name\": \"tense\", \"description\": \"Tense we want to set the input to.\", \"default\": \"present\", \"is_required\": true, \"json_schema\": \"\"}], \"execution_settings\": {\"default\": {\"service_id\": null, \"extension_data\": {\"max_tokens\": 1000, \"temperature\": 0.2, \"top_p\": 0.0, \"presence_penalty\": 0.0, \"frequency_penalty\": 0.0}}}}}, \"prompt_execution_settings\": {\"default\": {\"service_id\": null, \"extension_data\": {\"max_tokens\": 1000, \"temperature\": 0.2, \"top_p\": 0.0, \"presence_penalty\": 0.0, \"frequency_penalty\": 0.0}}}}, \"GeographicAbbreviations\": {\"metadata\": {\"name\": \"GeographicAbbreviations\", \"plugin_name\": \"EditingPlugin\", \"description\": \"Validates that a paragraph conforms to a style guide for the use of abbreviations.\", \"parameters\": [{\"name\": \"input\", \"description\": \"Text to be processed.\", \"default_value\": \"\", \"type_\": \"\", \"is_required\": true, \"type_object\": null}], \"is_prompt\": true, \"is_asynchronous\": true, \"return_parameter\": {\"name\": \"return\", \"description\": \"The completion result\", \"default_value\": null, \"type_\": \"FunctionResult\", \"is_required\": true, \"type_object\": null}}, \"prompt_template\": {\"prompt_template_config\": {\"name\": \"GeographicAbbreviations\", \"description\": \"Validates that a paragraph conforms to a style guide for the use of abbreviations.\", \"template\": \"Check the following text for compliance with the abbreviation usage rules described below and make corrections when necessary. The rules are:\\n\\n\\u2013 The country/region abbreviations US (United States), UK (United Kingdom), and EU \\n(European Union) may be used as both modifiers and nouns. EU should be \\nused only as an abbreviation for European Union, never for the geographic region \\nEurope. \\n\\n\\u2013 At first mention, the name of a state, territory, possession, province, or country should be \\nspelled out when it follows the name of a city. Names of cities, states, counties, \\nterritories, possessions, provinces, and countries should be spelled out in full when they \\nstand alone. \\n\\n\\u2013 Use 2-letter abbreviations for US state and Canadian province names in full addresses \\n(with US zip codes and Canadian postal codes) and in reference lists (eg, location of book \\npublishers) but not in the text. \\n\\nNow, check the following text:\\n\\n[INPUT]\\n[{{$input}}]\\n[END INPUT]\\n\", \"template_format\": \"semantic-kernel\", \"input_variables\": [{\"name\": \"input\", \"description\": \"Text to be processed.\", \"default\": \"\", \"is_required\": true, \"json_schema\": \"\"}], \"execution_settings\": {\"default\": {\"service_id\": null, \"extension_data\": {\"max_tokens\": 1000, \"temperature\": 0.5, \"top_p\": 0.0, \"presence_penalty\": 0.0, \"frequency_penalty\": 0.0}}}}}, \"prompt_execution_settings\": {\"default\": {\"service_id\": null, \"extension_data\": {\"max_tokens\": 1000, \"temperature\": 0.5, \"top_p\": 0.0, \"presence_penalty\": 0.0, \"frequency_penalty\": 0.0}}}}, \"RunningText\": {\"metadata\": {\"name\": \"RunningText\", \"plugin_name\": \"EditingPlugin\", \"description\": \"Validates that a paragraph conforms to a style guide for the use of abbreviations.\", \"parameters\": [{\"name\": \"input\", \"description\": \"Text to be processed.\", \"default_value\": \"\", \"type_\": \"\", \"is_required\": true, \"type_object\": null}], \"is_prompt\": true, \"is_asynchronous\": true, \"return_parameter\": {\"name\": \"return\", \"description\": \"The completion result\", \"default_value\": null, \"type_\": \"FunctionResult\", \"is_required\": true, \"type_object\": null}}, \"prompt_template\": {\"prompt_template_config\": {\"name\": \"RunningText\", \"description\": \"Validates that a paragraph conforms to a style guide for the use of abbreviations.\", \"template\": \"Check the following text for compliance with the abbreviation usage rules described below and make corrections when necessary. The rules are:\\n\\n- Spell out each term to be abbreviated at its first use, followed by the abbreviation in parentheses. Use only the abbreviation thereafter.\\n- Consecutive parentheses are allowed.\\n- Binomial species names should be abbreviated after their first use without the abbreviation presented in parentheses.\\n- Italicize genus and species names (for both organisms and viruses); do not italicize related plurals and adjectival forms or taxa above genus.\\n\\nFor example:\\nCorrect: \\\"The incidence, severity, and type of adverse events (AEs)\\u2026\\\"\\nIncorrect: \\\"The incidence, severity, and type of AEs\\u2026\\\"\\n\\nCorrect: \\\"Staphylococcus aureus is a common cause of hospital-acquired infection. Nosocomial S aureus infection is also a source of community-acquired infection.\\\"\\nIncorrect: \\\"Staphylococcus (S) aureus is a common cause of hospital-acquired infection. Nosocomial S aureus infection is also a source of community-acquired infection.\\\"\\n\\nNow, check the following text:\\n\\n[INPUT]\\n[{{$input}}]\\n[END INPUT]\\n\", \"template_format\": \"semantic-kernel\", \"input_variables\": [{\"name\": \"input\", \"description\": \"Text to be processed.\", \"default\": \"\", \"is_required\": true, \"json_schema\": \"\"}], \"execution_settings\": {\"default\": {\"service_id\": null, \"extension_data\": {\"max_tokens\": 1000, \"temperature\": 0.5, \"top_p\": 0.0, \"presence_penalty\": 0.0, \"frequency_penalty\": 0.0}}}}}, \"prompt_execution_settings\": {\"default\": {\"service_id\": null, \"extension_data\": {\"max_tokens\": 1000, \"temperature\": 0.5, \"top_p\": 0.0, \"presence_penalty\": 0.0, \"frequency_penalty\": 0.0}}}}}}\n"
     ]
    }
   ],
   "source": [
    "kernel = sk.Kernel()\n",
    "\n",
    "deployment, api_key, endpoint = sk.azure_openai_settings_from_dot_env()\n",
    "service_id = \"default\"\n",
    "\n",
    "kernel.add_service(\n",
    "    AzureChatCompletion(service_id=service_id, deployment_name=deployment, endpoint=endpoint, api_key=api_key),\n",
    ")\n",
    "\n",
    "for plugin_name in plugin_names:\n",
    "    print(\"Loading plugin: \", plugin_name)\n",
    "    plugin = kernel.import_plugin_from_prompt_directory(plugins_directory, plugin_name)\n",
    "    plugin.description = \"This is the editing plugin.\"\n",
    "   \n",
    "# convert plugin to json string\n",
    "plugin_json = json.dumps(plugin, default=lambda x: x.__dict__)\n",
    "print(plugin_json)\n",
    "\n",
    "   \n"
   ]
  },
  {
   "cell_type": "code",
   "execution_count": 3,
   "metadata": {},
   "outputs": [],
   "source": [
    "ask = \"\"\"Change the following sentence to past tense:\n",
    "I am going to the mall tomorrow to buy some clothes.\"\"\"\n",
    "\n",
    "#ask = \"\"\"Change the following paragraph to past tense:\n",
    "#Southwest, which flies only Boeing planes, is particularly exposed to the manufacturer’s struggles. Southwest said its plans to cut flying capacity will primarily happen in the second half of the year. The carrier said it is still in the process of reworking plans but will reduce pilot hiring by more than 50% and reduce flight-attendant hiring by more than 60% this year, looking to reduce costs.\"\"\""
   ]
  },
  {
   "cell_type": "code",
   "execution_count": 12,
   "metadata": {},
   "outputs": [
    {
     "name": "stderr",
     "output_type": "stream",
     "text": [
      "Overwriting plugin \"ActionPlanner_Excluded\" in collection\n"
     ]
    },
    {
     "name": "stdout",
     "output_type": "stream",
     "text": [
      "metadata=KernelFunctionMetadata(name='ChangeTense', plugin_name='EditingPlugin', description='Takes a text and changes it to a specified verbal tense.i.e. Present, Past, Future, etc.', parameters=[KernelParameterMetadata(name='input', description='Text to be processed.', default_value='', type_='', is_required=True, type_object=None), KernelParameterMetadata(name='tense', description='Tense we want to set the input to.', default_value='present', type_='', is_required=True, type_object=None)], is_prompt=True, is_asynchronous=True, return_parameter=KernelParameterMetadata(name='return', description='The completion result', default_value=None, type_='FunctionResult', is_required=True, type_object=None)) prompt_template=KernelPromptTemplate(prompt_template_config=PromptTemplateConfig(name='ChangeTense', description='Takes a text and changes it to a specified verbal tense.i.e. Present, Past, Future, etc.', template='USE THE INPUT TEXT AND REWRITE IT CHANGING ONLY THE VERBAL TENSE, IF PROVIDED TO: {{$tense}}\\n\\nYOU SHOULD NOT ADD ANY NEW CONTENT\\nTHE OUTPUT SHOULD KEEP THE SAME MEANING AS FOUND IN THE ORIGINAL TEXT\\n\\n[INPUT]\\n{{$input}}\\n[END INPUT]\\n', template_format='semantic-kernel', input_variables=[InputVariable(name='input', description='Text to be processed.', default='', is_required=True, json_schema=''), InputVariable(name='tense', description='Tense we want to set the input to.', default='present', is_required=True, json_schema='')], execution_settings={'default': PromptExecutionSettings(service_id=None, extension_data={'max_tokens': 1000, 'temperature': 0.2, 'top_p': 0.0, 'presence_penalty': 0.0, 'frequency_penalty': 0.0})})) prompt_execution_settings={'default': PromptExecutionSettings(service_id=None, extension_data={'max_tokens': 1000, 'temperature': 0.2, 'top_p': 0.0, 'presence_penalty': 0.0, 'frequency_penalty': 0.0})}\n"
     ]
    }
   ],
   "source": [
    "planner = ActionPlanner(kernel, service_id=service_id)\n",
    "\n",
    "plan = await planner.create_plan(goal=ask)\n",
    "\n",
    "print(plan.function)"
   ]
  },
  {
   "cell_type": "code",
   "execution_count": 13,
   "metadata": {},
   "outputs": [],
   "source": [
    "results = await plan.invoke(kernel)"
   ]
  },
  {
   "cell_type": "code",
   "execution_count": 14,
   "metadata": {},
   "outputs": [
    {
     "name": "stdout",
     "output_type": "stream",
     "text": [
      "I was going to the mall the next day to buy some clothes.\n"
     ]
    }
   ],
   "source": [
    "print(results)"
   ]
  },
  {
   "cell_type": "markdown",
   "metadata": {},
   "source": [
    "## Transform JSON tests"
   ]
  },
  {
   "cell_type": "code",
   "execution_count": 18,
   "metadata": {},
   "outputs": [
    {
     "name": "stdout",
     "output_type": "stream",
     "text": [
      "22\n",
      "{\"headers\": {\"TAK\": \"TAK-188\", \"TKD\": \"TKD-BCS-01991\"}, \"contents\": {\"Document Title: Examination of the Stability of TAK-188 in Mouse, Monkey, and Human Plasma\": \"Document Version: 1.0Effective Date: 14 Apr 2023 14:22:20 (GMT-04:00)Signed By : Guo, Yukuang (mne9509) Decision : ApprovedDecision Date : 14 Apr 2023 13:52:28 (GMT-04:00)Role : Approver Purpose : ApprovalMeaning Of Signature : I approve this documentSigned By : Zhu, Xiaochun Sean (UBN7028) Decision : ApprovedDecision Date : 14 Apr 2023 14:22:06 (GMT-04:00)Role : Approver Purpose : ApprovalMeaning Of Signature : I approve this documentSignature Manifestation Page 1 of 1NONCLINICAL STUDY PROTOCOLMetabolism Identification Title:Examination of the Stability of TAK-188 in Mouse, Monkey, and Human Plasma Protocol:TKD-BCS-01991Testing Facility:Takeda Development Center Americas, Inc.35 Landsdowne StreetCambridge, MA 02139 USAStudy Director:Yukuang Guo Ph (312) 722-0479Proposed Study Dates:Experimental Start: 01 April 2023Experimental End: 01 July 2023\", \"INTRODUCTION\": \"CCR8 expression is upregulated on a highly immunosuppressive subset of regulatory T cells (Tregs) in multiple cancer types. TAK-188 is an Antibody Drug Conjugate (ADC) targeting CCR8. TAK-188 is designed specifically for depleting Tregs and boosting the immune system to produce an antitumoral effect.\", \"STUDY OBJECTIVE\": \"The objective of this study is to examine the plasma stability of TAK-188 in vitro in fresh mouse, monkey, and human plasma.\", \"REGULATORY GUIDELINES\": \"\", \"Good Laboratory Practice Compliance\": \"This study will not be conducted in accordance with the Code of Federal Regulations, Title 21, Part 58: Good Laboratory Practice for Nonclinical Laboratory Studies, issued by the United States Food and Drug Administration. However, this study will be conducted according to standard departmental practices.\", \"Amendments To, and Deviations From, the Protocol\": \"Any changes to the protocol will be described in a written protocol amendment approved by the Study Director specified in this protocol and recorded in the raw data at Takeda Development Center Americas, Inc. (TDCA) (Cambridge, MA, USA). Any deviations from the protocol will be documented appropriately and listed in the final report.\", \"TESTING FACILITY\": \"All aspects of this study will be conducted by personnel of TDCA (Cambridge, MA, USA).\", \"STUDY PERSONNEL\": \"Table 1 lists personnel involved in this study.\", \"PROPOSED STUDY SCHEDULE\": \"Table 2 provides the proposed study schedule.\", \"Table 2Proposed Study Schedule\": \"91440052510Study ComponentProposed DateExperimental start date:01 April 2023Experimental end date:01 July 202390525641553\", \"MATERIALS\": \"Unless otherwise stated, all analytical reagents will be at least of high-performance liquid chromatography (HPLC) reagent grade. Unless otherwise noted, all chemicals, with the exception of the test article (TAK-188) will be purchased from Sigma-Aldrich Corp (St. Louis, MO, USA) or supplied by personnel of TDCA\\u2019s Lab Operations group. All reagents, with the exception of the test article, will be less than 5 years old or formulated by personnel of TDCA\\u2019s Lab Operations group.\", \"Test Article\": \"TAK-188 will be supplied by personnel of TDCA\\u2019s Sample Bank and stored at approximately \\u221220\\u00b0C.The test article is early, research-grade material, which has not been completely characterized for identity, purity, and stability, and which does not have a Certificate of Analysis. The identity, storage temperature, lot (batch) numbers, and formulation requirements will be documented in the study file.\", \"Test System\": \"Fresh mouse, monkey, and human plasma will be purchased from external vendor (information will be provided in the final report).\", \"Reagents and Instruments\": \"The reagents and instruments used in this study will be specified in the raw data and final report.\", \"ASSAY METHODOLOGY\": \"\", \"Plasma incubation\": \"The experimental procedure and final conditions will be specified in the final report. The incubation will be run in triplicates. The incubation conditions are shown in Table 3.\", \"Table 3Incubation Conditions\": \"91440052480Matrix:Fresh plasmaSpecies:Mouse, monkey, humanTime (hours):0, 4, and 24Concentration (\\u00b5g/mL):100Incubator Conditions:5% CO2, ~93% humidity, 37\\u00b0CShaking Rate (rpm):7591440041438rpm: revolutions per minute.\", \"BIOANALYSIS\": \"The monkey and human samples will be shipped to Frontage Laboratories and mouse samples will be shipped to QPS for bioanalysis (the method and details will be included in the final report) as shown below:Frontage Laboratories Attn: Sample Management 700 Pennsylvania DriveExton, PA 1943Email: Sample_Management@frontagelab.com Phone: (610) 232-0100Attn: Sample Coordinator/Lan Li QPS, LLC3 Innovation WayNewark, DE 19711Tel: (302) 369-5120Fax: (302) 369-5602Email: sample@qps.com\", \"DATA INTERPRETATION AND REPORTING\": \"The Study Director, with participation by other contributing scientists, as appropriate, will prepare a report describing, but not necessarily be limited to, the following: a summary of the study, study objectives, materials and methods, and results and interpretation, including any appropriate tables, figures, and/or appendices.\", \"REMEASUREMENT AND ADOPTION OF THE DATA\": \"If the Study Director believes that a certain event (eg, technical error, instrumentation problem, or scientifically unexpected phenomena) may have affected the reliability of the present study, the Study Director may deem it necessary to repeat the experiment(s) in the study. The reasons for repeating any steps of an experiment, and for adoption or exclusion of the results, will be noted in the raw data and the final report.\", \"ARCHIVING\": \"All study data, including the protocol (with any amendments and deviations), final report, study file, laboratory study notebooks, instrument printouts, and other raw data or materials from the study will be maintained at TDCA according to standard departmental procedures.Title:    Examination of the Stability of TAK-188 in Mouse, Monkey, and Human Plasma\", \"PROTOCOL APPROVAL\": \"(see electronic signature page)91440042931Yukuang Guo Study Director Scientist IDrug Metabolism and Pharmacokinetics(see electronic signature page)91440041471Xiaochun Sean Zhu Scientific DirectorDrug Metabolism and Pharmacokinetics\"}}\n"
     ]
    }
   ],
   "source": [
    "import json\n",
    "\n",
    "jsonFile = \"\"\"{\n",
    "    \"content\": {\n",
    "        \"Document Title: Examination of the Stability of TAK-188 in Mouse, Monkey, and Human Plasma\": \"Document Version: 1.0Effective Date: 14 Apr 2023 14:22:20 (GMT-04:00)Signed By : Guo, Yukuang (mne9509) Decision : ApprovedDecision Date : 14 Apr 2023 13:52:28 (GMT-04:00)Role : Approver Purpose : ApprovalMeaning Of Signature : I approve this documentSigned By : Zhu, Xiaochun Sean (UBN7028) Decision : ApprovedDecision Date : 14 Apr 2023 14:22:06 (GMT-04:00)Role : Approver Purpose : ApprovalMeaning Of Signature : I approve this documentSignature Manifestation Page 1 of 1NONCLINICAL STUDY PROTOCOLMetabolism Identification Title:Examination of the Stability of TAK-188 in Mouse, Monkey, and Human Plasma Protocol:TKD-BCS-01991Testing Facility:Takeda Development Center Americas, Inc.35 Landsdowne StreetCambridge, MA 02139 USAStudy Director:Yukuang Guo Ph (312) 722-0479Proposed Study Dates:Experimental Start: 01 April 2023Experimental End: 01 July 2023\",\n",
    "        \"INTRODUCTION\": \"CCR8 expression is upregulated on a highly immunosuppressive subset of regulatory T cells (Tregs) in multiple cancer types. TAK-188 is an Antibody Drug Conjugate (ADC) targeting CCR8. TAK-188 is designed specifically for depleting Tregs and boosting the immune system to produce an antitumoral effect.\",\n",
    "        \"STUDY OBJECTIVE\": \"The objective of this study is to examine the plasma stability of TAK-188 in vitro in fresh mouse, monkey, and human plasma.\",\n",
    "        \"REGULATORY GUIDELINES\": \"\",\n",
    "        \"Good Laboratory Practice Compliance\": \"This study will not be conducted in accordance with the Code of Federal Regulations, Title 21, Part 58: Good Laboratory Practice for Nonclinical Laboratory Studies, issued by the United States Food and Drug Administration. However, this study will be conducted according to standard departmental practices.\",\n",
    "        \"Amendments To, and Deviations From, the Protocol\": \"Any changes to the protocol will be described in a written protocol amendment approved by the Study Director specified in this protocol and recorded in the raw data at Takeda Development Center Americas, Inc. (TDCA) (Cambridge, MA, USA). Any deviations from the protocol will be documented appropriately and listed in the final report.\",\n",
    "        \"TESTING FACILITY\": \"All aspects of this study will be conducted by personnel of TDCA (Cambridge, MA, USA).\",\n",
    "        \"STUDY PERSONNEL\": \"Table 1 lists personnel involved in this study.\",\n",
    "        \"PROPOSED STUDY SCHEDULE\": \"Table 2 provides the proposed study schedule.\",\n",
    "        \"Table 2Proposed Study Schedule\": \"91440052510Study ComponentProposed DateExperimental start date:01 April 2023Experimental end date:01 July 202390525641553\",\n",
    "        \"MATERIALS\": \"Unless otherwise stated, all analytical reagents will be at least of high-performance liquid chromatography (HPLC) reagent grade. Unless otherwise noted, all chemicals, with the exception of the test article (TAK-188) will be purchased from Sigma-Aldrich Corp (St. Louis, MO, USA) or supplied by personnel of TDCA’s Lab Operations group. All reagents, with the exception of the test article, will be less than 5 years old or formulated by personnel of TDCA’s Lab Operations group.\",\n",
    "        \"Test Article\": \"TAK-188 will be supplied by personnel of TDCA’s Sample Bank and stored at approximately −20°C.The test article is early, research-grade material, which has not been completely characterized for identity, purity, and stability, and which does not have a Certificate of Analysis. The identity, storage temperature, lot (batch) numbers, and formulation requirements will be documented in the study file.\",\n",
    "        \"Test System\": \"Fresh mouse, monkey, and human plasma will be purchased from external vendor (information will be provided in the final report).\",\n",
    "        \"Reagents and Instruments\": \"The reagents and instruments used in this study will be specified in the raw data and final report.\",\n",
    "        \"ASSAY METHODOLOGY\": \"\",\n",
    "        \"Plasma incubation\": \"The experimental procedure and final conditions will be specified in the final report. The incubation will be run in triplicates. The incubation conditions are shown in Table 3.\",\n",
    "        \"Table 3Incubation Conditions\": \"91440052480Matrix:Fresh plasmaSpecies:Mouse, monkey, humanTime (hours):0, 4, and 24Concentration (µg/mL):100Incubator Conditions:5% CO2, ~93% humidity, 37°CShaking Rate (rpm):7591440041438rpm: revolutions per minute.\",\n",
    "        \"BIOANALYSIS\": \"The monkey and human samples will be shipped to Frontage Laboratories and mouse samples will be shipped to QPS for bioanalysis (the method and details will be included in the final report) as shown below:Frontage Laboratories Attn: Sample Management 700 Pennsylvania DriveExton, PA 1943Email: Sample_Management@frontagelab.com Phone: (610) 232-0100Attn: Sample Coordinator/Lan Li QPS, LLC3 Innovation WayNewark, DE 19711Tel: (302) 369-5120Fax: (302) 369-5602Email: sample@qps.com\",\n",
    "        \"DATA INTERPRETATION AND REPORTING\": \"The Study Director, with participation by other contributing scientists, as appropriate, will prepare a report describing, but not necessarily be limited to, the following: a summary of the study, study objectives, materials and methods, and results and interpretation, including any appropriate tables, figures, and/or appendices.\",\n",
    "        \"REMEASUREMENT AND ADOPTION OF THE DATA\": \"If the Study Director believes that a certain event (eg, technical error, instrumentation problem, or scientifically unexpected phenomena) may have affected the reliability of the present study, the Study Director may deem it necessary to repeat the experiment(s) in the study. The reasons for repeating any steps of an experiment, and for adoption or exclusion of the results, will be noted in the raw data and the final report.\",\n",
    "        \"ARCHIVING\": \"All study data, including the protocol (with any amendments and deviations), final report, study file, laboratory study notebooks, instrument printouts, and other raw data or materials from the study will be maintained at TDCA according to standard departmental procedures.Title:    Examination of the Stability of TAK-188 in Mouse, Monkey, and Human Plasma\",\n",
    "        \"PROTOCOL APPROVAL\": \"(see electronic signature page)91440042931Yukuang Guo Study Director Scientist IDrug Metabolism and Pharmacokinetics(see electronic signature page)91440041471Xiaochun Sean Zhu Scientific DirectorDrug Metabolism and Pharmacokinetics\"\n",
    "    },\n",
    "    \"headers\": {\n",
    "        \"TAK\": \"TAK-188\",\n",
    "        \"TKD\": \"TKD-BCS-01991\"\n",
    "    }\n",
    "}\"\"\"\n",
    "body = json.loads(jsonFile)\n",
    "\n",
    "body[\"content\"]\n",
    "\n",
    "sections = [(k, v) for k, v in body[\"content\"].items()]\n",
    "\n",
    "print(len(sections))\n",
    "\n",
    "headers = body[\"headers\"]\n",
    "\n",
    "contents = {}\n",
    "\n",
    "for k, v in sections:\n",
    "    # append properties to json object    \n",
    "    contents[k] = v\n",
    "    \n",
    "results = []\n",
    "results.append((\"headers\", headers))\n",
    "results.append((\"contents\", contents))\n",
    "\n",
    "print(json.dumps(dict(results)))\n",
    "    "
   ]
  }
 ],
 "metadata": {
  "kernelspec": {
   "display_name": "Python 3",
   "language": "python",
   "name": "python3"
  },
  "language_info": {
   "codemirror_mode": {
    "name": "ipython",
    "version": 3
   },
   "file_extension": ".py",
   "mimetype": "text/x-python",
   "name": "python",
   "nbconvert_exporter": "python",
   "pygments_lexer": "ipython3",
   "version": "3.11.8"
  }
 },
 "nbformat": 4,
 "nbformat_minor": 2
}
