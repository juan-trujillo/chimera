{
 "cells": [
  {
   "cell_type": "code",
   "execution_count": 6,
   "metadata": {},
   "outputs": [
    {
     "name": "stdout",
     "output_type": "stream",
     "text": [
      "Requirement already satisfied: semantic-kernel==0.9.1b1 in /usr/local/python/3.11.8/lib/python3.11/site-packages (0.9.1b1)\n",
      "Requirement already satisfied: aiofiles<24.0.0,>=23.1.0 in /usr/local/python/3.11.8/lib/python3.11/site-packages (from semantic-kernel==0.9.1b1) (23.2.1)\n",
      "Requirement already satisfied: aiohttp<4.0,>=3.8 in /usr/local/python/3.11.8/lib/python3.11/site-packages (from semantic-kernel==0.9.1b1) (3.9.3)\n",
      "Requirement already satisfied: defusedxml<0.8.0,>=0.7.1 in /usr/local/python/3.11.8/lib/python3.11/site-packages (from semantic-kernel==0.9.1b1) (0.7.1)\n",
      "Requirement already satisfied: motor<4.0.0,>=3.3.2 in /usr/local/python/3.11.8/lib/python3.11/site-packages (from semantic-kernel==0.9.1b1) (3.3.2)\n",
      "Requirement already satisfied: numpy<2.0.0,>=1.24.2 in /usr/local/python/3.11.8/lib/python3.11/site-packages (from semantic-kernel==0.9.1b1) (1.26.4)\n",
      "Requirement already satisfied: openai>=1.0 in /usr/local/python/3.11.8/lib/python3.11/site-packages (from semantic-kernel==0.9.1b1) (1.13.3)\n",
      "Requirement already satisfied: openapi_core<0.19.0,>=0.18.0 in /usr/local/python/3.11.8/lib/python3.11/site-packages (from semantic-kernel==0.9.1b1) (0.18.2)\n",
      "Requirement already satisfied: prance<24.0.0.0,>=23.6.21.0 in /usr/local/python/3.11.8/lib/python3.11/site-packages (from semantic-kernel==0.9.1b1) (23.6.21.0)\n",
      "Requirement already satisfied: pydantic>2 in /usr/local/python/3.11.8/lib/python3.11/site-packages (from semantic-kernel==0.9.1b1) (2.6.4)\n",
      "Requirement already satisfied: python-dotenv==1.0.1 in /usr/local/python/3.11.8/lib/python3.11/site-packages (from semantic-kernel==0.9.1b1) (1.0.1)\n",
      "Requirement already satisfied: regex<2024.0.0,>=2023.6.3 in /usr/local/python/3.11.8/lib/python3.11/site-packages (from semantic-kernel==0.9.1b1) (2023.12.25)\n",
      "Requirement already satisfied: aiosignal>=1.1.2 in /usr/local/python/3.11.8/lib/python3.11/site-packages (from aiohttp<4.0,>=3.8->semantic-kernel==0.9.1b1) (1.3.1)\n",
      "Requirement already satisfied: attrs>=17.3.0 in /usr/local/python/3.11.8/lib/python3.11/site-packages (from aiohttp<4.0,>=3.8->semantic-kernel==0.9.1b1) (23.2.0)\n",
      "Requirement already satisfied: frozenlist>=1.1.1 in /usr/local/python/3.11.8/lib/python3.11/site-packages (from aiohttp<4.0,>=3.8->semantic-kernel==0.9.1b1) (1.4.1)\n",
      "Requirement already satisfied: multidict<7.0,>=4.5 in /usr/local/python/3.11.8/lib/python3.11/site-packages (from aiohttp<4.0,>=3.8->semantic-kernel==0.9.1b1) (6.0.5)\n",
      "Requirement already satisfied: yarl<2.0,>=1.0 in /usr/local/python/3.11.8/lib/python3.11/site-packages (from aiohttp<4.0,>=3.8->semantic-kernel==0.9.1b1) (1.9.4)\n",
      "Requirement already satisfied: pymongo<5,>=4.5 in /usr/local/python/3.11.8/lib/python3.11/site-packages (from motor<4.0.0,>=3.3.2->semantic-kernel==0.9.1b1) (4.6.2)\n",
      "Requirement already satisfied: anyio<5,>=3.5.0 in /usr/local/python/3.11.8/lib/python3.11/site-packages (from openai>=1.0->semantic-kernel==0.9.1b1) (4.3.0)\n",
      "Requirement already satisfied: distro<2,>=1.7.0 in /usr/local/python/3.11.8/lib/python3.11/site-packages (from openai>=1.0->semantic-kernel==0.9.1b1) (1.9.0)\n",
      "Requirement already satisfied: httpx<1,>=0.23.0 in /usr/local/python/3.11.8/lib/python3.11/site-packages (from openai>=1.0->semantic-kernel==0.9.1b1) (0.27.0)\n",
      "Requirement already satisfied: sniffio in /usr/local/python/3.11.8/lib/python3.11/site-packages (from openai>=1.0->semantic-kernel==0.9.1b1) (1.3.1)\n",
      "Requirement already satisfied: tqdm>4 in /usr/local/python/3.11.8/lib/python3.11/site-packages (from openai>=1.0->semantic-kernel==0.9.1b1) (4.66.2)\n",
      "Requirement already satisfied: typing-extensions<5,>=4.7 in /usr/local/python/3.11.8/lib/python3.11/site-packages (from openai>=1.0->semantic-kernel==0.9.1b1) (4.10.0)\n",
      "Requirement already satisfied: asgiref<4.0.0,>=3.6.0 in /usr/local/python/3.11.8/lib/python3.11/site-packages (from openapi_core<0.19.0,>=0.18.0->semantic-kernel==0.9.1b1) (3.7.2)\n",
      "Requirement already satisfied: isodate in /usr/local/python/3.11.8/lib/python3.11/site-packages (from openapi_core<0.19.0,>=0.18.0->semantic-kernel==0.9.1b1) (0.6.1)\n",
      "Requirement already satisfied: jsonschema<5.0.0,>=4.18.0 in /usr/local/python/3.11.8/lib/python3.11/site-packages (from openapi_core<0.19.0,>=0.18.0->semantic-kernel==0.9.1b1) (4.21.1)\n",
      "Requirement already satisfied: jsonschema-spec<0.3.0,>=0.2.3 in /usr/local/python/3.11.8/lib/python3.11/site-packages (from openapi_core<0.19.0,>=0.18.0->semantic-kernel==0.9.1b1) (0.2.4)\n",
      "Requirement already satisfied: more-itertools in /usr/local/python/3.11.8/lib/python3.11/site-packages (from openapi_core<0.19.0,>=0.18.0->semantic-kernel==0.9.1b1) (10.2.0)\n",
      "Requirement already satisfied: openapi-schema-validator<0.7.0,>=0.6.0 in /usr/local/python/3.11.8/lib/python3.11/site-packages (from openapi_core<0.19.0,>=0.18.0->semantic-kernel==0.9.1b1) (0.6.2)\n",
      "Requirement already satisfied: openapi-spec-validator<0.8.0,>=0.7.1 in /usr/local/python/3.11.8/lib/python3.11/site-packages (from openapi_core<0.19.0,>=0.18.0->semantic-kernel==0.9.1b1) (0.7.1)\n",
      "Requirement already satisfied: parse in /usr/local/python/3.11.8/lib/python3.11/site-packages (from openapi_core<0.19.0,>=0.18.0->semantic-kernel==0.9.1b1) (1.20.1)\n",
      "Requirement already satisfied: werkzeug in /usr/local/python/3.11.8/lib/python3.11/site-packages (from openapi_core<0.19.0,>=0.18.0->semantic-kernel==0.9.1b1) (3.0.1)\n",
      "Requirement already satisfied: chardet>=3.0 in /usr/local/python/3.11.8/lib/python3.11/site-packages (from prance<24.0.0.0,>=23.6.21.0->semantic-kernel==0.9.1b1) (5.2.0)\n",
      "Requirement already satisfied: ruamel.yaml>=0.17.10 in /usr/local/python/3.11.8/lib/python3.11/site-packages (from prance<24.0.0.0,>=23.6.21.0->semantic-kernel==0.9.1b1) (0.18.6)\n",
      "Requirement already satisfied: requests>=2.25 in /usr/local/python/3.11.8/lib/python3.11/site-packages (from prance<24.0.0.0,>=23.6.21.0->semantic-kernel==0.9.1b1) (2.31.0)\n",
      "Requirement already satisfied: six~=1.15 in /usr/local/python/3.11.8/lib/python3.11/site-packages (from prance<24.0.0.0,>=23.6.21.0->semantic-kernel==0.9.1b1) (1.16.0)\n",
      "Requirement already satisfied: packaging>=21.3 in /usr/local/python/3.11.8/lib/python3.11/site-packages (from prance<24.0.0.0,>=23.6.21.0->semantic-kernel==0.9.1b1) (24.0)\n",
      "Requirement already satisfied: annotated-types>=0.4.0 in /usr/local/python/3.11.8/lib/python3.11/site-packages (from pydantic>2->semantic-kernel==0.9.1b1) (0.6.0)\n",
      "Requirement already satisfied: pydantic-core==2.16.3 in /usr/local/python/3.11.8/lib/python3.11/site-packages (from pydantic>2->semantic-kernel==0.9.1b1) (2.16.3)\n",
      "Requirement already satisfied: idna>=2.8 in /usr/local/python/3.11.8/lib/python3.11/site-packages (from anyio<5,>=3.5.0->openai>=1.0->semantic-kernel==0.9.1b1) (3.6)\n",
      "Requirement already satisfied: certifi in /usr/local/python/3.11.8/lib/python3.11/site-packages (from httpx<1,>=0.23.0->openai>=1.0->semantic-kernel==0.9.1b1) (2024.2.2)\n",
      "Requirement already satisfied: httpcore==1.* in /usr/local/python/3.11.8/lib/python3.11/site-packages (from httpx<1,>=0.23.0->openai>=1.0->semantic-kernel==0.9.1b1) (1.0.4)\n",
      "Requirement already satisfied: h11<0.15,>=0.13 in /usr/local/python/3.11.8/lib/python3.11/site-packages (from httpcore==1.*->httpx<1,>=0.23.0->openai>=1.0->semantic-kernel==0.9.1b1) (0.14.0)\n",
      "Requirement already satisfied: jsonschema-specifications>=2023.03.6 in /usr/local/python/3.11.8/lib/python3.11/site-packages (from jsonschema<5.0.0,>=4.18.0->openapi_core<0.19.0,>=0.18.0->semantic-kernel==0.9.1b1) (2023.7.1)\n",
      "Requirement already satisfied: referencing>=0.28.4 in /usr/local/python/3.11.8/lib/python3.11/site-packages (from jsonschema<5.0.0,>=4.18.0->openapi_core<0.19.0,>=0.18.0->semantic-kernel==0.9.1b1) (0.30.2)\n",
      "Requirement already satisfied: rpds-py>=0.7.1 in /usr/local/python/3.11.8/lib/python3.11/site-packages (from jsonschema<5.0.0,>=4.18.0->openapi_core<0.19.0,>=0.18.0->semantic-kernel==0.9.1b1) (0.18.0)\n",
      "Requirement already satisfied: PyYAML>=5.1 in /usr/local/python/3.11.8/lib/python3.11/site-packages (from jsonschema-spec<0.3.0,>=0.2.3->openapi_core<0.19.0,>=0.18.0->semantic-kernel==0.9.1b1) (6.0.1)\n",
      "Requirement already satisfied: pathable<0.5.0,>=0.4.1 in /usr/local/python/3.11.8/lib/python3.11/site-packages (from jsonschema-spec<0.3.0,>=0.2.3->openapi_core<0.19.0,>=0.18.0->semantic-kernel==0.9.1b1) (0.4.3)\n",
      "Requirement already satisfied: rfc3339-validator in /usr/local/python/3.11.8/lib/python3.11/site-packages (from openapi-schema-validator<0.7.0,>=0.6.0->openapi_core<0.19.0,>=0.18.0->semantic-kernel==0.9.1b1) (0.1.4)\n",
      "Requirement already satisfied: jsonschema-path<0.4.0,>=0.3.1 in /usr/local/python/3.11.8/lib/python3.11/site-packages (from openapi-spec-validator<0.8.0,>=0.7.1->openapi_core<0.19.0,>=0.18.0->semantic-kernel==0.9.1b1) (0.3.2)\n",
      "Requirement already satisfied: lazy-object-proxy<2.0.0,>=1.7.1 in /usr/local/python/3.11.8/lib/python3.11/site-packages (from openapi-spec-validator<0.8.0,>=0.7.1->openapi_core<0.19.0,>=0.18.0->semantic-kernel==0.9.1b1) (1.10.0)\n",
      "Requirement already satisfied: dnspython<3.0.0,>=1.16.0 in /usr/local/python/3.11.8/lib/python3.11/site-packages (from pymongo<5,>=4.5->motor<4.0.0,>=3.3.2->semantic-kernel==0.9.1b1) (2.6.1)\n",
      "Requirement already satisfied: charset-normalizer<4,>=2 in /usr/local/python/3.11.8/lib/python3.11/site-packages (from requests>=2.25->prance<24.0.0.0,>=23.6.21.0->semantic-kernel==0.9.1b1) (3.3.2)\n",
      "Requirement already satisfied: urllib3<3,>=1.21.1 in /usr/local/python/3.11.8/lib/python3.11/site-packages (from requests>=2.25->prance<24.0.0.0,>=23.6.21.0->semantic-kernel==0.9.1b1) (2.2.1)\n",
      "Requirement already satisfied: ruamel.yaml.clib>=0.2.7 in /usr/local/python/3.11.8/lib/python3.11/site-packages (from ruamel.yaml>=0.17.10->prance<24.0.0.0,>=23.6.21.0->semantic-kernel==0.9.1b1) (0.2.8)\n",
      "Requirement already satisfied: MarkupSafe>=2.1.1 in /usr/local/python/3.11.8/lib/python3.11/site-packages (from werkzeug->openapi_core<0.19.0,>=0.18.0->semantic-kernel==0.9.1b1) (2.1.5)\n"
     ]
    }
   ],
   "source": [
    "!pip install semantic-kernel==0.9.1b1"
   ]
  },
  {
   "cell_type": "code",
   "execution_count": 10,
   "metadata": {},
   "outputs": [
    {
     "name": "stdout",
     "output_type": "stream",
     "text": [
      "Plugins found:  ['EditingPlugin']\n"
     ]
    }
   ],
   "source": [
    "import os\n",
    "import semantic_kernel as sk\n",
    "import json\n",
    "\n",
    "from semantic_kernel.connectors.ai.open_ai import AzureChatCompletion\n",
    "from semantic_kernel.planners.action_planner import ActionPlanner\n",
    "\n",
    "plugins_directory = \"plugins\"\n",
    "plugin_names = [plugin for plugin in os.listdir(plugins_directory) if os.path.isdir(os.path.join(plugins_directory, plugin))]\n",
    "#plugin_names = [\"PhilPlugin\"]\n",
    "\n",
    "print(\"Plugins found: \", plugin_names)"
   ]
  },
  {
   "cell_type": "code",
   "execution_count": 11,
   "metadata": {},
   "outputs": [
    {
     "name": "stdout",
     "output_type": "stream",
     "text": [
      "Loading plugin:  EditingPlugin\n",
      "{\"name\": \"EditingPlugin\", \"description\": \"This is the editing plugin.\", \"functions\": {\"ChangeTense\": {\"metadata\": {\"name\": \"ChangeTense\", \"plugin_name\": \"EditingPlugin\", \"description\": \"Takes a text and changes it to a specified verbal tense.i.e. Present, Past, Future, etc.\", \"parameters\": [{\"name\": \"input\", \"description\": \"Text to be processed.\", \"default_value\": \"\", \"type_\": \"\", \"is_required\": true, \"type_object\": null}, {\"name\": \"tense\", \"description\": \"Tense we want to set the input to.\", \"default_value\": \"present\", \"type_\": \"\", \"is_required\": true, \"type_object\": null}], \"is_prompt\": true, \"is_asynchronous\": true, \"return_parameter\": {\"name\": \"return\", \"description\": \"The completion result\", \"default_value\": null, \"type_\": \"FunctionResult\", \"is_required\": true, \"type_object\": null}}, \"prompt_template\": {\"prompt_template_config\": {\"name\": \"ChangeTense\", \"description\": \"Takes a text and changes it to a specified verbal tense.i.e. Present, Past, Future, etc.\", \"template\": \"USE THE INPUT TEXT AND REWRITE IT CHANGING ONLY THE VERBAL TENSE, IF PROVIDED TO: {{$tense}}\\n\\nYOU SHOULD NOT ADD ANY NEW CONTENT\\nTHE OUTPUT SHOULD KEEP THE SAME MEANING AS FOUND IN THE ORIGINAL TEXT\\n\\n[INPUT]\\n{{$input}}\\n[END INPUT]\\n\", \"template_format\": \"semantic-kernel\", \"input_variables\": [{\"name\": \"input\", \"description\": \"Text to be processed.\", \"default\": \"\", \"is_required\": true, \"json_schema\": \"\"}, {\"name\": \"tense\", \"description\": \"Tense we want to set the input to.\", \"default\": \"present\", \"is_required\": true, \"json_schema\": \"\"}], \"execution_settings\": {\"default\": {\"service_id\": null, \"extension_data\": {\"max_tokens\": 1000, \"temperature\": 0.2, \"top_p\": 0.0, \"presence_penalty\": 0.0, \"frequency_penalty\": 0.0}}}}}, \"prompt_execution_settings\": {\"default\": {\"service_id\": null, \"extension_data\": {\"max_tokens\": 1000, \"temperature\": 0.2, \"top_p\": 0.0, \"presence_penalty\": 0.0, \"frequency_penalty\": 0.0}}}}, \"GeographicAbbreviations\": {\"metadata\": {\"name\": \"GeographicAbbreviations\", \"plugin_name\": \"EditingPlugin\", \"description\": \"Validates that a paragraph conforms to a style guide for the use of abbreviations.\", \"parameters\": [{\"name\": \"input\", \"description\": \"Text to be processed.\", \"default_value\": \"\", \"type_\": \"\", \"is_required\": true, \"type_object\": null}], \"is_prompt\": true, \"is_asynchronous\": true, \"return_parameter\": {\"name\": \"return\", \"description\": \"The completion result\", \"default_value\": null, \"type_\": \"FunctionResult\", \"is_required\": true, \"type_object\": null}}, \"prompt_template\": {\"prompt_template_config\": {\"name\": \"GeographicAbbreviations\", \"description\": \"Validates that a paragraph conforms to a style guide for the use of abbreviations.\", \"template\": \"Check the following text for compliance with the abbreviation usage rules described below and make corrections when necessary. The rules are:\\n\\n\\u2013 The country/region abbreviations US (United States), UK (United Kingdom), and EU \\n(European Union) may be used as both modifiers and nouns. EU should be \\nused only as an abbreviation for European Union, never for the geographic region \\nEurope. \\n\\n\\u2013 At first mention, the name of a state, territory, possession, province, or country should be \\nspelled out when it follows the name of a city. Names of cities, states, counties, \\nterritories, possessions, provinces, and countries should be spelled out in full when they \\nstand alone. \\n\\n\\u2013 Use 2-letter abbreviations for US state and Canadian province names in full addresses \\n(with US zip codes and Canadian postal codes) and in reference lists (eg, location of book \\npublishers) but not in the text. \\n\\nNow, check the following text:\\n\\n[INPUT]\\n[{{$input}}]\\n[END INPUT]\\n\", \"template_format\": \"semantic-kernel\", \"input_variables\": [{\"name\": \"input\", \"description\": \"Text to be processed.\", \"default\": \"\", \"is_required\": true, \"json_schema\": \"\"}], \"execution_settings\": {\"default\": {\"service_id\": null, \"extension_data\": {\"max_tokens\": 1000, \"temperature\": 0.5, \"top_p\": 0.0, \"presence_penalty\": 0.0, \"frequency_penalty\": 0.0}}}}}, \"prompt_execution_settings\": {\"default\": {\"service_id\": null, \"extension_data\": {\"max_tokens\": 1000, \"temperature\": 0.5, \"top_p\": 0.0, \"presence_penalty\": 0.0, \"frequency_penalty\": 0.0}}}}, \"RunningText\": {\"metadata\": {\"name\": \"RunningText\", \"plugin_name\": \"EditingPlugin\", \"description\": \"Validates that a paragraph conforms to a style guide for the use of abbreviations.\", \"parameters\": [{\"name\": \"input\", \"description\": \"Text to be processed.\", \"default_value\": \"\", \"type_\": \"\", \"is_required\": true, \"type_object\": null}], \"is_prompt\": true, \"is_asynchronous\": true, \"return_parameter\": {\"name\": \"return\", \"description\": \"The completion result\", \"default_value\": null, \"type_\": \"FunctionResult\", \"is_required\": true, \"type_object\": null}}, \"prompt_template\": {\"prompt_template_config\": {\"name\": \"RunningText\", \"description\": \"Validates that a paragraph conforms to a style guide for the use of abbreviations.\", \"template\": \"Check the following text for compliance with the abbreviation usage rules described below and make corrections when necessary. The rules are:\\n\\n- Spell out each term to be abbreviated at its first use, followed by the abbreviation in parentheses. Use only the abbreviation thereafter.\\n- Consecutive parentheses are allowed.\\n- Binomial species names should be abbreviated after their first use without the abbreviation presented in parentheses.\\n- Italicize genus and species names (for both organisms and viruses); do not italicize related plurals and adjectival forms or taxa above genus.\\n\\nFor example:\\nCorrect: \\\"The incidence, severity, and type of adverse events (AEs)\\u2026\\\"\\nIncorrect: \\\"The incidence, severity, and type of AEs\\u2026\\\"\\n\\nCorrect: \\\"Staphylococcus aureus is a common cause of hospital-acquired infection. Nosocomial S aureus infection is also a source of community-acquired infection.\\\"\\nIncorrect: \\\"Staphylococcus (S) aureus is a common cause of hospital-acquired infection. Nosocomial S aureus infection is also a source of community-acquired infection.\\\"\\n\\nNow, check the following text:\\n\\n[INPUT]\\n[{{$input}}]\\n[END INPUT]\\n\", \"template_format\": \"semantic-kernel\", \"input_variables\": [{\"name\": \"input\", \"description\": \"Text to be processed.\", \"default\": \"\", \"is_required\": true, \"json_schema\": \"\"}], \"execution_settings\": {\"default\": {\"service_id\": null, \"extension_data\": {\"max_tokens\": 1000, \"temperature\": 0.5, \"top_p\": 0.0, \"presence_penalty\": 0.0, \"frequency_penalty\": 0.0}}}}}, \"prompt_execution_settings\": {\"default\": {\"service_id\": null, \"extension_data\": {\"max_tokens\": 1000, \"temperature\": 0.5, \"top_p\": 0.0, \"presence_penalty\": 0.0, \"frequency_penalty\": 0.0}}}}}}\n"
     ]
    }
   ],
   "source": [
    "kernel = sk.Kernel()\n",
    "\n",
    "deployment, api_key, endpoint = sk.azure_openai_settings_from_dot_env()\n",
    "service_id = \"default\"\n",
    "\n",
    "kernel.add_service(\n",
    "    AzureChatCompletion(service_id=service_id, deployment_name=deployment, endpoint=endpoint, api_key=api_key),\n",
    ")\n",
    "\n",
    "for plugin_name in plugin_names:\n",
    "    print(\"Loading plugin: \", plugin_name)\n",
    "    plugin = kernel.import_plugin_from_prompt_directory(plugins_directory, plugin_name)\n",
    "    plugin.description = \"This is the editing plugin.\"\n",
    "   \n",
    "# convert plugin to json string\n",
    "plugin_json = json.dumps(plugin, default=lambda x: x.__dict__)\n",
    "print(plugin_json)\n",
    "\n",
    "   \n"
   ]
  },
  {
   "cell_type": "code",
   "execution_count": 3,
   "metadata": {},
   "outputs": [],
   "source": [
    "ask = \"\"\"Change the following sentence to past tense:\n",
    "I am going to the mall tomorrow to buy some clothes.\"\"\"\n",
    "\n",
    "#ask = \"\"\"Change the following paragraph to past tense:\n",
    "#Southwest, which flies only Boeing planes, is particularly exposed to the manufacturer’s struggles. Southwest said its plans to cut flying capacity will primarily happen in the second half of the year. The carrier said it is still in the process of reworking plans but will reduce pilot hiring by more than 50% and reduce flight-attendant hiring by more than 60% this year, looking to reduce costs.\"\"\""
   ]
  },
  {
   "cell_type": "code",
   "execution_count": 12,
   "metadata": {},
   "outputs": [
    {
     "name": "stderr",
     "output_type": "stream",
     "text": [
      "Overwriting plugin \"ActionPlanner_Excluded\" in collection\n"
     ]
    },
    {
     "name": "stdout",
     "output_type": "stream",
     "text": [
      "metadata=KernelFunctionMetadata(name='ChangeTense', plugin_name='EditingPlugin', description='Takes a text and changes it to a specified verbal tense.i.e. Present, Past, Future, etc.', parameters=[KernelParameterMetadata(name='input', description='Text to be processed.', default_value='', type_='', is_required=True, type_object=None), KernelParameterMetadata(name='tense', description='Tense we want to set the input to.', default_value='present', type_='', is_required=True, type_object=None)], is_prompt=True, is_asynchronous=True, return_parameter=KernelParameterMetadata(name='return', description='The completion result', default_value=None, type_='FunctionResult', is_required=True, type_object=None)) prompt_template=KernelPromptTemplate(prompt_template_config=PromptTemplateConfig(name='ChangeTense', description='Takes a text and changes it to a specified verbal tense.i.e. Present, Past, Future, etc.', template='USE THE INPUT TEXT AND REWRITE IT CHANGING ONLY THE VERBAL TENSE, IF PROVIDED TO: {{$tense}}\\n\\nYOU SHOULD NOT ADD ANY NEW CONTENT\\nTHE OUTPUT SHOULD KEEP THE SAME MEANING AS FOUND IN THE ORIGINAL TEXT\\n\\n[INPUT]\\n{{$input}}\\n[END INPUT]\\n', template_format='semantic-kernel', input_variables=[InputVariable(name='input', description='Text to be processed.', default='', is_required=True, json_schema=''), InputVariable(name='tense', description='Tense we want to set the input to.', default='present', is_required=True, json_schema='')], execution_settings={'default': PromptExecutionSettings(service_id=None, extension_data={'max_tokens': 1000, 'temperature': 0.2, 'top_p': 0.0, 'presence_penalty': 0.0, 'frequency_penalty': 0.0})})) prompt_execution_settings={'default': PromptExecutionSettings(service_id=None, extension_data={'max_tokens': 1000, 'temperature': 0.2, 'top_p': 0.0, 'presence_penalty': 0.0, 'frequency_penalty': 0.0})}\n"
     ]
    }
   ],
   "source": [
    "planner = ActionPlanner(kernel, service_id=service_id)\n",
    "\n",
    "plan = await planner.create_plan(goal=ask)\n",
    "\n",
    "print(plan.function)"
   ]
  },
  {
   "cell_type": "code",
   "execution_count": 13,
   "metadata": {},
   "outputs": [],
   "source": [
    "results = await plan.invoke(kernel)"
   ]
  },
  {
   "cell_type": "code",
   "execution_count": 14,
   "metadata": {},
   "outputs": [
    {
     "name": "stdout",
     "output_type": "stream",
     "text": [
      "I was going to the mall the next day to buy some clothes.\n"
     ]
    }
   ],
   "source": [
    "print(results)"
   ]
  }
 ],
 "metadata": {
  "kernelspec": {
   "display_name": "Python 3",
   "language": "python",
   "name": "python3"
  },
  "language_info": {
   "codemirror_mode": {
    "name": "ipython",
    "version": 3
   },
   "file_extension": ".py",
   "mimetype": "text/x-python",
   "name": "python",
   "nbconvert_exporter": "python",
   "pygments_lexer": "ipython3",
   "version": "3.11.8"
  }
 },
 "nbformat": 4,
 "nbformat_minor": 2
}
